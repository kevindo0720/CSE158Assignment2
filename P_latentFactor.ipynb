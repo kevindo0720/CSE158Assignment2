{
 "cells": [
  {
   "cell_type": "code",
   "execution_count": null,
   "metadata": {},
   "outputs": [],
   "source": [
    "pip install surprise"
   ]
  },
  {
   "cell_type": "code",
   "execution_count": null,
   "metadata": {},
   "outputs": [],
   "source": [
    "import gzip\n",
    "import random\n",
    "import scipy\n",
    "import tensorflow as tf\n",
    "from collections import defaultdict\n",
    "from implicit import bpr\n",
    "from surprise import SVDpp, Reader, Dataset\n",
    "from surprise.model_selection import train_test_split\n",
    "import csv\n",
    "import pandas as pd"
   ]
  },
  {
   "cell_type": "code",
   "execution_count": 3,
   "metadata": {},
   "outputs": [],
   "source": [
    "trainData = []\n",
    "file_path = './archive/interactions_train.csv'\n",
    "\n",
    "with open(file_path, 'r') as file:\n",
    "    reader = csv.reader(file)\n",
    "    count = 0\n",
    "    for row in reader:\n",
    "        count +=1\n",
    "        if count == 1:\n",
    "            continue\n",
    "        trainData.append([row[0], row[1], int(row[3][0])])\n",
    "        \n",
    "validData = []\n",
    "file_path = './archive/interactions_validation.csv'\n",
    "\n",
    "with open(file_path, 'r') as file:\n",
    "    reader = csv.reader(file)\n",
    "    count = 0\n",
    "    for row in reader:\n",
    "        count +=1\n",
    "        if count == 1:\n",
    "            continue\n",
    "        validData.append([row[0], row[1], int(row[3][0])])\n",
    "        \n",
    "testData = []\n",
    "file_path = './archive/interactions_test.csv'\n",
    "\n",
    "with open(file_path, 'r') as file:\n",
    "    reader = csv.reader(file)\n",
    "    count = 0\n",
    "    for row in reader:\n",
    "        count +=1\n",
    "        if count == 1:\n",
    "            continue\n",
    "        testData.append([row[0], row[1], int(row[3][0])])"
   ]
  },
  {
   "cell_type": "code",
   "execution_count": null,
   "metadata": {},
   "outputs": [],
   "source": [
    "reader = Reader(rating_scale=(0, 5))\n",
    "\n",
    "df_train = pd.DataFrame(trainData, columns=['userID', 'itemID', 'rating'])\n",
    "data_train = Dataset.load_from_df(df_train[['userID', 'itemID', 'rating']], reader)\n",
    "\n",
    "df_valid = pd.DataFrame(validData, columns=['userID', 'itemID', 'rating'])\n",
    "data_valid = Dataset.load_from_df(df_valid[['userID', 'itemID', 'rating']], reader)\n",
    "\n",
    "trainset = data_train.build_full_trainset()\n",
    "\n",
    "# model = SVDpp(n_factors= 150, lr_all=0.003, reg_bu=0.4, reg_bi= 0.003, reg_pu= 0.47, reg_qi= 0.4,reg_yj=0.02, n_epochs= 75)\n",
    "\n",
    "model = SVDpp(n_factors = 5)\n",
    "\n",
    "model.fit(trainset)\n",
    "\n",
    "predictions = model.test(testData)\n",
    "\n",
    "#----------------------------------------------------------------#\n",
    "\n",
    "# calculate mse\n",
    "sse = 0\n",
    "for p in predictions:\n",
    "    sse += (p.r_ui - p.est)**2\n",
    "\n",
    "print(\"MSE of initial latent factor model: \" + str(sse / len(predictions)))"
   ]
  },
  {
   "cell_type": "code",
   "execution_count": 35,
   "metadata": {},
   "outputs": [
    {
     "name": "stdout",
     "output_type": "stream",
     "text": [
      "MSE of latent factor model: 1.7291665320452776\n"
     ]
    }
   ],
   "source": [
    "# calculate mse\n",
    "sse = 0\n",
    "for p in predictions:\n",
    "    sse += (p.r_ui - p.est)**2\n",
    "\n",
    "print(\"MSE of initial latent factor model: \" + str(sse / len(predictions)))"
   ]
  },
  {
   "cell_type": "code",
   "execution_count": 36,
   "metadata": {},
   "outputs": [
    {
     "name": "stdout",
     "output_type": "stream",
     "text": [
      "actual rating: ['8937', '44551', 4]\n",
      "predicted rating: 4.24021703076739\n"
     ]
    }
   ],
   "source": [
    "print(\"actual rating: \" + str(testData[0]))\n",
    "print(\"predicted rating: \" + str(predictions[0].est))"
   ]
  },
  {
   "cell_type": "code",
   "execution_count": 60,
   "metadata": {},
   "outputs": [
    {
     "name": "stdout",
     "output_type": "stream",
     "text": [
      "[-0.00517627  0.02802388 -0.01451376 -0.00522544 -0.01051014]\n",
      "[ 0.11941598 -0.08573039 -0.09161672  0.12242995  0.06544003]\n"
     ]
    }
   ],
   "source": [
    "# printing latent factors for first user and item\n",
    "print(model.pu[0])\n",
    "print(model.qi[0])"
   ]
  },
  {
   "cell_type": "code",
   "execution_count": 61,
   "metadata": {},
   "outputs": [
    {
     "name": "stdout",
     "output_type": "stream",
     "text": [
      "Best Hyperparameters: {'n_factors': 5, 'lr_all': 0.004, 'reg_all': 0.2, 'n_epochs': 20}\n",
      "RMSE: 1.2804\n",
      "RMSE on Validation Set: 1.280365563696972\n",
      "MSE on Test Set: 1.7612393380092546\n"
     ]
    }
   ],
   "source": [
    "from surprise import SVDpp\n",
    "from surprise import Dataset\n",
    "from surprise import Reader\n",
    "from surprise import accuracy\n",
    "from surprise.model_selection import GridSearchCV\n",
    "\n",
    "# Define the parameter grid\n",
    "param_grid = {'n_factors': [5],\n",
    "              'lr_all': [0.004, 0.005, 0.006],\n",
    "              'reg_all': [0.2, 0.25, 0.3],\n",
    "              'n_epochs': [20]}\n",
    "\n",
    "# Instantiate the SVDpp algorithm\n",
    "svdpp = SVDpp\n",
    "\n",
    "# Perform grid search with cross-validation\n",
    "grid_search = GridSearchCV(svdpp, param_grid, measures=['rmse'], cv=3)\n",
    "grid_search.fit(data_train)\n",
    "\n",
    "# Print the best hyperparameters and corresponding RMSE\n",
    "print(\"Best Hyperparameters:\", grid_search.best_params['rmse'])\n",
    "\n",
    "# Train the model with the best hyperparameters on the full training set\n",
    "best_svdpp = grid_search.best_estimator['rmse']\n",
    "best_svdpp.fit(data_train.build_full_trainset())\n",
    "\n",
    "# Evaluate on the validation set\n",
    "valid_predictions = best_svdpp.test(data_valid.build_full_trainset().build_testset())\n",
    "rmse_valid = accuracy.rmse(valid_predictions)\n",
    "print(\"RMSE on Validation Set:\", rmse_valid)\n",
    "\n",
    "# Test the model on the test set\n",
    "test_predictions = best_svdpp.test(testData)\n",
    "\n",
    "# Calculate MSE on the test set\n",
    "sse_test = sum([(p.r_ui - p.est)**2 for p in test_predictions])\n",
    "mse_test = sse_test / len(test_predictions)\n",
    "print(\"MSE on Test Set:\", mse_test)"
   ]
  }
 ],
 "metadata": {
  "kernelspec": {
   "display_name": "Python 3",
   "language": "python",
   "name": "python3"
  },
  "language_info": {
   "codemirror_mode": {
    "name": "ipython",
    "version": 3
   },
   "file_extension": ".py",
   "mimetype": "text/x-python",
   "name": "python",
   "nbconvert_exporter": "python",
   "pygments_lexer": "ipython3",
   "version": "3.10.5"
  }
 },
 "nbformat": 4,
 "nbformat_minor": 2
}
