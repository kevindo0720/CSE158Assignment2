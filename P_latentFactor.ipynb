{
 "cells": [
  {
   "cell_type": "code",
   "execution_count": null,
   "metadata": {},
   "outputs": [],
   "source": [
    "pip install surprise"
   ]
  },
  {
   "cell_type": "code",
   "execution_count": 26,
   "metadata": {},
   "outputs": [],
   "source": [
    "import gzip\n",
    "import random\n",
    "import scipy\n",
    "import tensorflow as tf\n",
    "from collections import defaultdict\n",
    "from implicit import bpr\n",
    "from surprise import SVDpp, Reader, Dataset\n",
    "from surprise.model_selection import train_test_split\n",
    "import csv\n",
    "import pandas as pd"
   ]
  },
  {
   "cell_type": "code",
   "execution_count": 25,
   "metadata": {},
   "outputs": [],
   "source": [
    "trainData = []\n",
    "file_path = './archive/interactions_train.csv'\n",
    "\n",
    "with open(file_path, 'r') as file:\n",
    "    reader = csv.reader(file)\n",
    "    count = 0\n",
    "    for row in reader:\n",
    "        count +=1\n",
    "        if count == 1:\n",
    "            continue\n",
    "        trainData.append([row[0], row[1], int(row[3][0])])\n",
    "        \n",
    "validData = []\n",
    "file_path = './archive/interactions_validation.csv'\n",
    "\n",
    "with open(file_path, 'r') as file:\n",
    "    reader = csv.reader(file)\n",
    "    count = 0\n",
    "    for row in reader:\n",
    "        count +=1\n",
    "        if count == 1:\n",
    "            continue\n",
    "        validData.append([row[0], row[1], int(row[3][0])])\n",
    "        \n",
    "testData = []\n",
    "file_path = './archive/interactions_test.csv'\n",
    "\n",
    "with open(file_path, 'r') as file:\n",
    "    reader = csv.reader(file)\n",
    "    count = 0\n",
    "    for row in reader:\n",
    "        count +=1\n",
    "        if count == 1:\n",
    "            continue\n",
    "        testData.append([row[0], row[1], int(row[3][0])])"
   ]
  },
  {
   "cell_type": "code",
   "execution_count": null,
   "metadata": {},
   "outputs": [],
   "source": [
    "reader = Reader(rating_scale=(0, 5))\n",
    "\n",
    "\n",
    "df_train = pd.DataFrame(trainData, columns=['userID', 'itemID', 'rating'])\n",
    "data = Dataset.load_from_df(df_train[['userID', 'itemID', 'rating']], reader)\n",
    "\n",
    "df_valid = pd.DataFrame(validData, columns=['userID', 'itemID', 'rating'])\n",
    "data_valid = Dataset.load_from_df(df_valid[['userID', 'itemID', 'rating']], reader)\n",
    "\n",
    "trainset = data.build_full_trainset()\n",
    "\n",
    "# model = SVDpp(n_factors= 150, lr_all=0.003, reg_bu=0.4, reg_bi= 0.003, reg_pu= 0.47, reg_qi= 0.4,reg_yj=0.02, n_epochs= 75)\n",
    "\n",
    "model = SVDpp(n_factors= 5)\n",
    "\n",
    "model.fit(trainset)\n",
    "\n",
    "predictions = model.test(testData)"
   ]
  },
  {
   "cell_type": "code",
   "execution_count": 36,
   "metadata": {},
   "outputs": [
    {
     "name": "stdout",
     "output_type": "stream",
     "text": [
      "actual rating: ['8937', '44551', 4]\n",
      "predicted rating: 4.24021703076739\n"
     ]
    }
   ],
   "source": [
    "print(\"actual rating: \" + str(testData[0]))\n",
    "print(\"predicted rating: \" + str(predictions[0].est))"
   ]
  },
  {
   "cell_type": "code",
   "execution_count": 35,
   "metadata": {},
   "outputs": [
    {
     "name": "stdout",
     "output_type": "stream",
     "text": [
      "MSE of latent factor model: 1.7291665320452776\n"
     ]
    }
   ],
   "source": [
    "# calculate mse\n",
    "sse = 0\n",
    "for p in predictions:\n",
    "    sse += (p.r_ui - p.est)**2\n",
    "\n",
    "print(\"MSE of latent factor model: \" + str(sse / len(predictions)))"
   ]
  }
 ],
 "metadata": {
  "kernelspec": {
   "display_name": "Python 3",
   "language": "python",
   "name": "python3"
  },
  "language_info": {
   "codemirror_mode": {
    "name": "ipython",
    "version": 3
   },
   "file_extension": ".py",
   "mimetype": "text/x-python",
   "name": "python",
   "nbconvert_exporter": "python",
   "pygments_lexer": "ipython3",
   "version": "3.10.5"
  }
 },
 "nbformat": 4,
 "nbformat_minor": 2
}
